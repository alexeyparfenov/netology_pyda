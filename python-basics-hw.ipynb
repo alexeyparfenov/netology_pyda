{
 "cells": [
  {
   "cell_type": "markdown",
   "metadata": {},
   "source": [
    "**Задание 1**. Даны 2 строки: *long_phrase* и *short_phrase*. \n",
    "Напишите код, который проверяет действительно ли длинная фраза *long_phrase* длиннее короткой *short_phrase*. И выводит *True* или *False* в зависимости от результата сравнения."
   ]
  },
  {
   "cell_type": "code",
   "execution_count": null,
   "metadata": {},
   "outputs": [],
   "source": [
    "long_phrase = 'Насколько проще было бы писать программы, если бы не заказчики'\n",
    "short_phrase = '640Кб должно хватить для любых задач. Билл Гейтс (по легенде)'"
   ]
  },
  {
   "cell_type": "code",
   "execution_count": null,
   "metadata": {},
   "outputs": [],
   "source": [
    "long_phrase = 'Насколько проще было бы писать программы, если бы не заказчики'\n",
    "short_phrase = '640Кб должно хватить для любых задач. Билл Гейтс (по легенде)'\n",
    "\n",
    "len(long_phrase) > len(short_phrase)\n"
   ]
  },
  {
   "cell_type": "markdown",
   "metadata": {},
   "source": [
    "**Задание 2**. Дано значение объема файла в байтах. Напишите перевод этого значения в мегабайты в формате: \"*Объем файла равен 213.68Mb*\""
   ]
  },
  {
   "cell_type": "code",
   "execution_count": null,
   "metadata": {},
   "outputs": [],
   "source": [
    "file_size = 215000\n",
    "file_size_mb = file_size / 1024\n",
    "print('Объем файла равен', round(file_size_mb, 2),'Mb')"
   ]
  },
  {
   "cell_type": "markdown",
   "metadata": {},
   "source": [
    "**Задание 3**. Разработать приложение для определения знака зодиака по дате рождения. Пример:\n",
    "\n",
    "Введите месяц: март\n",
    "\n",
    "Введите число: 6\n",
    "\n",
    "Вывод:\n",
    "Рыбы"
   ]
  },
  {
   "cell_type": "code",
   "execution_count": null,
   "metadata": {},
   "outputs": [],
   "source": [
    "month = input('введите месяц')\n",
    "date =  int(input('введите дату'))\n",
    "if month == 'январь': #пишем условие для перевода текстового названия месяца в цифру. Дальше напишем условия сравнения\n",
    "    month_num = 1\n",
    "elif month == 'февраль':\n",
    "    month_num = 2\n",
    "elif month == 'март':\n",
    "    month_num = 3\n",
    "elif month == 'апрель':\n",
    "    month_num = 4\n",
    "elif month == 'май':\n",
    "    month_num = 5\n",
    "elif month == 'июнь':\n",
    "    month_num = 6\n",
    "elif month == 'июль':\n",
    "    month_num = 7\n",
    "elif month == 'август':\n",
    "    month_num = 8\n",
    "elif month == 'сентябрь':\n",
    "    month_num = 9\n",
    "elif month == 'октябрь':\n",
    "    month_num = 10\n",
    "elif month == 'ноябрь':\n",
    "    month_num = 11\n",
    "elif month == 'декабрь':\n",
    "    month_num = 12\n",
    "else: print ('вы не ввели месяц. Введите месяц с маленькой буквы пожалуйста. Все заработает!')\n"
   ]
  },
  {
   "cell_type": "code",
   "execution_count": null,
   "metadata": {},
   "outputs": [],
   "source": [
    "#пишем условие проверки и вывода знака зодиака\n",
    "if (month_num == 3 and 21 <= date <= 31) or (month_num == 4 and 1 <= date <= 19):\n",
    "    print ('Вывод: овен')\n",
    "elif (month_num == 4 and 20 <= date <= 30) or (month_num == 5 and 1 <= date <= 20):\n",
    "    print ('Вывод: телец')\n",
    "elif (month_num == 5 and 21 <= date <= 31) or (month_num == 6 and 1 <= date <= 20):\n",
    "    print ('Вывод: близнецы')\n",
    "elif (month_num == 6 and 21 <= date <= 30) or (month_num == 7 and 1 <= date <= 22):\n",
    "    print ('Вывод: рак')\n",
    "elif (month_num == 7 and 23 <= date <= 31) or (month_num == 8 and 1 <= date <= 22):\n",
    "    print ('Вывод: лев')\n",
    "elif (month_num == 8 and 23 <= date <= 30) or (month_num == 9 and 1 <= date <= 22):\n",
    "    print ('Вывод: дева')\n",
    "elif (month_num == 9 and 23 <= date <= 30) or (month_num == 10 and 1 <= date <= 22):\n",
    "    print ('Вывод: весы')\n",
    "elif (month_num == 10 and 23 <= date <= 31) or (month_num == 11 and 1 <= date <= 21):\n",
    "    print ('Вывод: скорпион')\n",
    "elif (month_num == 11 and 22 <= date <= 30) or (month_num == 12 and 1 <= date <= 21):\n",
    "    print ('Вывод: стрелец')\n",
    "elif (month_num == 12 and 22 <= date <= 31) or (month_num == 1 and 1 <= date <= 19):\n",
    "    print ('Вывод: козерог')\n",
    "elif (month_num == 1 and 20 <= date <= 31) or (month_num == 2 and 1 <= date <= 18):\n",
    "    print ('Вывод: водолей')\n",
    "elif (month_num == 2 and 19 <= date <= 29) or (month_num == 3 and 1 <= date <= 20):\n",
    "    print ('Вывод: рыбы')"
   ]
  },
  {
   "cell_type": "markdown",
   "metadata": {},
   "source": [
    "**Задание 4**. Нужно разработать приложение для финансового планирования.\n",
    "Приложение учитывает сколько уходит на ипотеку, \"на жизнь\" и сколько нужно отложить на пенсию.\n",
    "Пользователь вводит:\n",
    "- заработанную плату в месяц.\n",
    "- сколько процентов от ЗП уходит на ипотеку.\n",
    "- сколько процентов от ЗП уходит \"на жизнь\".\n",
    "- сколько раз приходит премия в год.\n",
    "\n",
    "Остальная часть заработанной платы откладывается на пенсию.\n",
    "\n",
    "Также пользователю приходит премия в размере зарплаты, от которой половина уходит на отпуск, а вторая половина откладывается.\n",
    "\n",
    "Программа должна учитывать сколько премий было в год.\n",
    "\n",
    "Нужно вывести сколько денег тратит пользователь на ипотеку и сколько он накопит за год.\n",
    "\n",
    "Пример:\n",
    "\n",
    "Введите заработанную плату в месяц: 100000\n",
    "\n",
    "Введите сколько процентов уходит на ипотеку: 30\n",
    "\n",
    "Введите сколько процентов уходит на жизнь: 50\n",
    "\n",
    "Введите количество премий за год: 2\n",
    "\n",
    "Вывод:\n",
    "На ипотеку было потрачено: 360000 рублей\n",
    "Было накоплено: 340000 рублей"
   ]
  },
  {
   "cell_type": "code",
   "execution_count": null,
   "metadata": {
    "scrolled": true
   },
   "outputs": [],
   "source": [
    "zp = int(input('введите ЗП '))\n",
    "ipoteka_procent = int(input('сколько процентов от ЗП уходит на ипотеку: '))\n",
    "zhiza_procent = int(input('сколько процентов от ЗП уходит \"на жизнь\":'))\n",
    "num_bonus = int(input('сколько раз приходит премия в год: '))\n",
    "\n",
    "bonus = zp * num_bonus #определяем размер бонуса в рублях за год\n",
    "ipoteka = (12 * zp) * (ipoteka_procent / 100) #определяем сколько потратили на ипотеку за год\n",
    "zhiza = (12 * zp) * (zhiza_procent / 100) #определяем сколько потратили на жизнь\n",
    "nakopleniya = (zp * 12) - (ipoteka) - (zhiza) + (bonus * 0.5) #определяем общий уровень накоплений\n",
    "#выводим результат\n",
    "print ('На ипотеку было потрачено ', round(ipoteka), 'рублей;' , 'Было накоплено', round(nakopleniya) , 'рублей')\n"
   ]
  },
  {
   "cell_type": "code",
   "execution_count": null,
   "metadata": {},
   "outputs": [],
   "source": []
  }
 ],
 "metadata": {
  "kernelspec": {
   "display_name": "Python 3",
   "language": "python",
   "name": "python3"
  },
  "language_info": {
   "codemirror_mode": {
    "name": "ipython",
    "version": 3
   },
   "file_extension": ".py",
   "mimetype": "text/x-python",
   "name": "python",
   "nbconvert_exporter": "python",
   "pygments_lexer": "ipython3",
   "version": "3.7.4"
  }
 },
 "nbformat": 4,
 "nbformat_minor": 2
}
